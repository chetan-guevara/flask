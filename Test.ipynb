{
 "cells": [
  {
   "cell_type": "code",
   "execution_count": 1,
   "metadata": {
    "collapsed": false
   },
   "outputs": [],
   "source": [
    "import pandas as pd \n",
    "import numpy as np\n",
    "import ijson\n",
    "from urllib2 import urlopen\n",
    "import json\n",
    "\n"
   ]
  },
  {
   "cell_type": "code",
   "execution_count": 2,
   "metadata": {
    "collapsed": false
   },
   "outputs": [
    {
     "data": {
      "text/html": [
       "\n",
       "    <div class=\"bk-root\">\n",
       "        <a href=\"http://bokeh.pydata.org\" target=\"_blank\" class=\"bk-logo bk-logo-small bk-logo-notebook\"></a>\n",
       "        <span id=\"9d2a1d30-6206-4339-9ec2-3fe82922a64b\">Loading BokehJS ...</span>\n",
       "    </div>"
      ]
     },
     "metadata": {},
     "output_type": "display_data"
    },
    {
     "data": {
      "application/javascript": [
       "\n",
       "(function(global) {\n",
       "  function now() {\n",
       "    return new Date();\n",
       "  }\n",
       "\n",
       "  var force = \"1\";\n",
       "\n",
       "  if (typeof (window._bokeh_onload_callbacks) === \"undefined\" || force !== \"\") {\n",
       "    window._bokeh_onload_callbacks = [];\n",
       "    window._bokeh_is_loading = undefined;\n",
       "  }\n",
       "\n",
       "  function run_callbacks() {\n",
       "    window._bokeh_onload_callbacks.forEach(function(callback) { callback() });\n",
       "    delete window._bokeh_onload_callbacks\n",
       "    console.info(\"Bokeh: all callbacks have finished\");\n",
       "  }\n",
       "\n",
       "  function load_libs(js_urls, callback) {\n",
       "    window._bokeh_onload_callbacks.push(callback);\n",
       "    if (window._bokeh_is_loading > 0) {\n",
       "      console.log(\"Bokeh: BokehJS is being loaded, scheduling callback at\", now());\n",
       "      return null;\n",
       "    }\n",
       "    if (js_urls == null || js_urls.length === 0) {\n",
       "      run_callbacks();\n",
       "      return null;\n",
       "    }\n",
       "    console.log(\"Bokeh: BokehJS not loaded, scheduling load and callback at\", now());\n",
       "    window._bokeh_is_loading = js_urls.length;\n",
       "    for (var i = 0; i < js_urls.length; i++) {\n",
       "      var url = js_urls[i];\n",
       "      var s = document.createElement('script');\n",
       "      s.src = url;\n",
       "      s.async = false;\n",
       "      s.onreadystatechange = s.onload = function() {\n",
       "        window._bokeh_is_loading--;\n",
       "        if (window._bokeh_is_loading === 0) {\n",
       "          console.log(\"Bokeh: all BokehJS libraries loaded\");\n",
       "          run_callbacks()\n",
       "        }\n",
       "      };\n",
       "      s.onerror = function() {\n",
       "        console.warn(\"failed to load library \" + url);\n",
       "      };\n",
       "      console.log(\"Bokeh: injecting script tag for BokehJS library: \", url);\n",
       "      document.getElementsByTagName(\"head\")[0].appendChild(s);\n",
       "    }\n",
       "  };\n",
       "\n",
       "  var js_urls = ['https://cdn.pydata.org/bokeh/release/bokeh-0.12.1.min.js', 'https://cdn.pydata.org/bokeh/release/bokeh-widgets-0.12.1.min.js', 'https://cdn.pydata.org/bokeh/release/bokeh-compiler-0.12.1.min.js'];\n",
       "\n",
       "  var inline_js = [\n",
       "    function(Bokeh) {\n",
       "      Bokeh.set_log_level(\"info\");\n",
       "    },\n",
       "    \n",
       "    function(Bokeh) {\n",
       "      \n",
       "      Bokeh.$(\"#9d2a1d30-6206-4339-9ec2-3fe82922a64b\").text(\"BokehJS successfully loaded\");\n",
       "      var kernel = Jupyter.notebook.kernel\n",
       "      if (kernel.execute !== undefined) {\n",
       "          kernel.execute(\"import bokeh.io; bokeh.io._nb_loaded = True\");\n",
       "      }\n",
       "    },\n",
       "    function(Bokeh) {\n",
       "      console.log(\"Bokeh: injecting CSS: https://cdn.pydata.org/bokeh/release/bokeh-0.12.1.min.css\");\n",
       "      Bokeh.embed.inject_css(\"https://cdn.pydata.org/bokeh/release/bokeh-0.12.1.min.css\");\n",
       "      console.log(\"Bokeh: injecting CSS: https://cdn.pydata.org/bokeh/release/bokeh-widgets-0.12.1.min.css\");\n",
       "      Bokeh.embed.inject_css(\"https://cdn.pydata.org/bokeh/release/bokeh-widgets-0.12.1.min.css\");\n",
       "    }\n",
       "  ];\n",
       "\n",
       "  function run_inline_js() {\n",
       "    for (var i = 0; i < inline_js.length; i++) {\n",
       "      inline_js[i](window.Bokeh);\n",
       "    }\n",
       "  }\n",
       "\n",
       "  if (window._bokeh_is_loading === 0) {\n",
       "    console.log(\"Bokeh: BokehJS loaded, going straight to plotting\");\n",
       "    run_inline_js();\n",
       "  } else {\n",
       "    load_libs(js_urls, function() {\n",
       "      console.log(\"Bokeh: BokehJS plotting callback run at\", now());\n",
       "      run_inline_js();\n",
       "    });\n",
       "  }\n",
       "}(this));"
      ]
     },
     "metadata": {},
     "output_type": "display_data"
    }
   ],
   "source": [
    "from bokeh.plotting import figure, output_notebook, show\n",
    "output_notebook()"
   ]
  },
  {
   "cell_type": "code",
   "execution_count": 3,
   "metadata": {
    "collapsed": false
   },
   "outputs": [
    {
     "ename": "KeyboardInterrupt",
     "evalue": "",
     "output_type": "error",
     "traceback": [
      "\u001b[0;31m---------------------------------------------------------------------------\u001b[0m",
      "\u001b[0;31mKeyboardInterrupt\u001b[0m                         Traceback (most recent call last)",
      "\u001b[0;32m<ipython-input-3-b080d51894cd>\u001b[0m in \u001b[0;36m<module>\u001b[0;34m()\u001b[0m\n\u001b[1;32m      5\u001b[0m \u001b[0mobjects\u001b[0m \u001b[0;34m=\u001b[0m \u001b[0mijson\u001b[0m\u001b[0;34m.\u001b[0m\u001b[0mitems\u001b[0m\u001b[0;34m(\u001b[0m\u001b[0mf\u001b[0m\u001b[0;34m,\u001b[0m \u001b[0;34m'column_names'\u001b[0m\u001b[0;34m)\u001b[0m\u001b[0;34m\u001b[0m\u001b[0m\n\u001b[1;32m      6\u001b[0m \u001b[0;31m#tmp = objects[0]\u001b[0m\u001b[0;34m\u001b[0m\u001b[0;34m\u001b[0m\u001b[0m\n\u001b[0;32m----> 7\u001b[0;31m \u001b[0mtmp\u001b[0m \u001b[0;34m=\u001b[0m \u001b[0mlist\u001b[0m\u001b[0;34m(\u001b[0m\u001b[0mobjects\u001b[0m\u001b[0;34m)\u001b[0m\u001b[0;34m[\u001b[0m\u001b[0;36m0\u001b[0m\u001b[0;34m]\u001b[0m\u001b[0;34m\u001b[0m\u001b[0m\n\u001b[0m\u001b[1;32m      8\u001b[0m \u001b[0mcolumns\u001b[0m \u001b[0;34m=\u001b[0m \u001b[0;34m[\u001b[0m\u001b[0;34m]\u001b[0m\u001b[0;34m\u001b[0m\u001b[0m\n\u001b[1;32m      9\u001b[0m \u001b[0;32mfor\u001b[0m \u001b[0mval\u001b[0m \u001b[0;32min\u001b[0m \u001b[0mtmp\u001b[0m\u001b[0;34m:\u001b[0m\u001b[0;34m\u001b[0m\u001b[0m\n",
      "\u001b[0;32m/Users/chetan/anaconda2/lib/python2.7/site-packages/ijson/common.pyc\u001b[0m in \u001b[0;36mitems\u001b[0;34m(prefixed_events, prefix)\u001b[0m\n\u001b[1;32m    136\u001b[0m     \u001b[0;32mtry\u001b[0m\u001b[0;34m:\u001b[0m\u001b[0;34m\u001b[0m\u001b[0m\n\u001b[1;32m    137\u001b[0m         \u001b[0;32mwhile\u001b[0m \u001b[0mTrue\u001b[0m\u001b[0;34m:\u001b[0m\u001b[0;34m\u001b[0m\u001b[0m\n\u001b[0;32m--> 138\u001b[0;31m             \u001b[0mcurrent\u001b[0m\u001b[0;34m,\u001b[0m \u001b[0mevent\u001b[0m\u001b[0;34m,\u001b[0m \u001b[0mvalue\u001b[0m \u001b[0;34m=\u001b[0m \u001b[0mnext\u001b[0m\u001b[0;34m(\u001b[0m\u001b[0mprefixed_events\u001b[0m\u001b[0;34m)\u001b[0m\u001b[0;34m\u001b[0m\u001b[0m\n\u001b[0m\u001b[1;32m    139\u001b[0m             \u001b[0;32mif\u001b[0m \u001b[0mcurrent\u001b[0m \u001b[0;34m==\u001b[0m \u001b[0mprefix\u001b[0m\u001b[0;34m:\u001b[0m\u001b[0;34m\u001b[0m\u001b[0m\n\u001b[1;32m    140\u001b[0m                 \u001b[0;32mif\u001b[0m \u001b[0mevent\u001b[0m \u001b[0;32min\u001b[0m \u001b[0;34m(\u001b[0m\u001b[0;34m'start_map'\u001b[0m\u001b[0;34m,\u001b[0m \u001b[0;34m'start_array'\u001b[0m\u001b[0;34m)\u001b[0m\u001b[0;34m:\u001b[0m\u001b[0;34m\u001b[0m\u001b[0m\n",
      "\u001b[0;32m/Users/chetan/anaconda2/lib/python2.7/site-packages/ijson/common.pyc\u001b[0m in \u001b[0;36mparse\u001b[0;34m(basic_events)\u001b[0m\n\u001b[1;32m     63\u001b[0m     '''\n\u001b[1;32m     64\u001b[0m     \u001b[0mpath\u001b[0m \u001b[0;34m=\u001b[0m \u001b[0;34m[\u001b[0m\u001b[0;34m]\u001b[0m\u001b[0;34m\u001b[0m\u001b[0m\n\u001b[0;32m---> 65\u001b[0;31m     \u001b[0;32mfor\u001b[0m \u001b[0mevent\u001b[0m\u001b[0;34m,\u001b[0m \u001b[0mvalue\u001b[0m \u001b[0;32min\u001b[0m \u001b[0mbasic_events\u001b[0m\u001b[0;34m:\u001b[0m\u001b[0;34m\u001b[0m\u001b[0m\n\u001b[0m\u001b[1;32m     66\u001b[0m         \u001b[0;32mif\u001b[0m \u001b[0mevent\u001b[0m \u001b[0;34m==\u001b[0m \u001b[0;34m'map_key'\u001b[0m\u001b[0;34m:\u001b[0m\u001b[0;34m\u001b[0m\u001b[0m\n\u001b[1;32m     67\u001b[0m             \u001b[0mprefix\u001b[0m \u001b[0;34m=\u001b[0m \u001b[0;34m'.'\u001b[0m\u001b[0;34m.\u001b[0m\u001b[0mjoin\u001b[0m\u001b[0;34m(\u001b[0m\u001b[0mpath\u001b[0m\u001b[0;34m[\u001b[0m\u001b[0;34m:\u001b[0m\u001b[0;34m-\u001b[0m\u001b[0;36m1\u001b[0m\u001b[0;34m]\u001b[0m\u001b[0;34m)\u001b[0m\u001b[0;34m\u001b[0m\u001b[0m\n",
      "\u001b[0;32m/Users/chetan/anaconda2/lib/python2.7/site-packages/ijson/backends/python.pyc\u001b[0m in \u001b[0;36mbasic_parse\u001b[0;34m(file, buf_size)\u001b[0m\n\u001b[1;32m    183\u001b[0m     '''\n\u001b[1;32m    184\u001b[0m     \u001b[0mlexer\u001b[0m \u001b[0;34m=\u001b[0m \u001b[0miter\u001b[0m\u001b[0;34m(\u001b[0m\u001b[0mLexer\u001b[0m\u001b[0;34m(\u001b[0m\u001b[0mfile\u001b[0m\u001b[0;34m,\u001b[0m \u001b[0mbuf_size\u001b[0m\u001b[0;34m)\u001b[0m\u001b[0;34m)\u001b[0m\u001b[0;34m\u001b[0m\u001b[0m\n\u001b[0;32m--> 185\u001b[0;31m     \u001b[0;32mfor\u001b[0m \u001b[0mvalue\u001b[0m \u001b[0;32min\u001b[0m \u001b[0mparse_value\u001b[0m\u001b[0;34m(\u001b[0m\u001b[0mlexer\u001b[0m\u001b[0;34m)\u001b[0m\u001b[0;34m:\u001b[0m\u001b[0;34m\u001b[0m\u001b[0m\n\u001b[0m\u001b[1;32m    186\u001b[0m         \u001b[0;32myield\u001b[0m \u001b[0mvalue\u001b[0m\u001b[0;34m\u001b[0m\u001b[0m\n\u001b[1;32m    187\u001b[0m     \u001b[0;32mtry\u001b[0m\u001b[0;34m:\u001b[0m\u001b[0;34m\u001b[0m\u001b[0m\n",
      "\u001b[0;32m/Users/chetan/anaconda2/lib/python2.7/site-packages/ijson/backends/python.pyc\u001b[0m in \u001b[0;36mparse_value\u001b[0;34m(lexer, symbol, pos)\u001b[0m\n\u001b[1;32m    117\u001b[0m                 \u001b[0;32myield\u001b[0m \u001b[0mevent\u001b[0m\u001b[0;34m\u001b[0m\u001b[0m\n\u001b[1;32m    118\u001b[0m         \u001b[0;32melif\u001b[0m \u001b[0msymbol\u001b[0m \u001b[0;34m==\u001b[0m \u001b[0;34m'{'\u001b[0m\u001b[0;34m:\u001b[0m\u001b[0;34m\u001b[0m\u001b[0m\n\u001b[0;32m--> 119\u001b[0;31m             \u001b[0;32mfor\u001b[0m \u001b[0mevent\u001b[0m \u001b[0;32min\u001b[0m \u001b[0mparse_object\u001b[0m\u001b[0;34m(\u001b[0m\u001b[0mlexer\u001b[0m\u001b[0;34m)\u001b[0m\u001b[0;34m:\u001b[0m\u001b[0;34m\u001b[0m\u001b[0m\n\u001b[0m\u001b[1;32m    120\u001b[0m                 \u001b[0;32myield\u001b[0m \u001b[0mevent\u001b[0m\u001b[0;34m\u001b[0m\u001b[0m\n\u001b[1;32m    121\u001b[0m         \u001b[0;32melif\u001b[0m \u001b[0msymbol\u001b[0m\u001b[0;34m[\u001b[0m\u001b[0;36m0\u001b[0m\u001b[0;34m]\u001b[0m \u001b[0;34m==\u001b[0m \u001b[0;34m'\"'\u001b[0m\u001b[0;34m:\u001b[0m\u001b[0;34m\u001b[0m\u001b[0m\n",
      "\u001b[0;32m/Users/chetan/anaconda2/lib/python2.7/site-packages/ijson/backends/python.pyc\u001b[0m in \u001b[0;36mparse_object\u001b[0;34m(lexer)\u001b[0m\n\u001b[1;32m    161\u001b[0m                 \u001b[0;32mif\u001b[0m \u001b[0msymbol\u001b[0m \u001b[0;34m!=\u001b[0m \u001b[0;34m':'\u001b[0m\u001b[0;34m:\u001b[0m\u001b[0;34m\u001b[0m\u001b[0m\n\u001b[1;32m    162\u001b[0m                     \u001b[0;32mraise\u001b[0m \u001b[0mUnexpectedSymbol\u001b[0m\u001b[0;34m(\u001b[0m\u001b[0msymbol\u001b[0m\u001b[0;34m,\u001b[0m \u001b[0mpos\u001b[0m\u001b[0;34m)\u001b[0m\u001b[0;34m\u001b[0m\u001b[0m\n\u001b[0;32m--> 163\u001b[0;31m                 \u001b[0;32mfor\u001b[0m \u001b[0mevent\u001b[0m \u001b[0;32min\u001b[0m \u001b[0mparse_value\u001b[0m\u001b[0;34m(\u001b[0m\u001b[0mlexer\u001b[0m\u001b[0;34m,\u001b[0m \u001b[0mNone\u001b[0m\u001b[0;34m,\u001b[0m \u001b[0mpos\u001b[0m\u001b[0;34m)\u001b[0m\u001b[0;34m:\u001b[0m\u001b[0;34m\u001b[0m\u001b[0m\n\u001b[0m\u001b[1;32m    164\u001b[0m                     \u001b[0;32myield\u001b[0m \u001b[0mevent\u001b[0m\u001b[0;34m\u001b[0m\u001b[0m\n\u001b[1;32m    165\u001b[0m                 \u001b[0mpos\u001b[0m\u001b[0;34m,\u001b[0m \u001b[0msymbol\u001b[0m \u001b[0;34m=\u001b[0m \u001b[0mnext\u001b[0m\u001b[0;34m(\u001b[0m\u001b[0mlexer\u001b[0m\u001b[0;34m)\u001b[0m\u001b[0;34m\u001b[0m\u001b[0m\n",
      "\u001b[0;32m/Users/chetan/anaconda2/lib/python2.7/site-packages/ijson/backends/python.pyc\u001b[0m in \u001b[0;36mparse_value\u001b[0;34m(lexer, symbol, pos)\u001b[0m\n\u001b[1;32m    114\u001b[0m             \u001b[0;32myield\u001b[0m \u001b[0;34m(\u001b[0m\u001b[0;34m'boolean'\u001b[0m\u001b[0;34m,\u001b[0m \u001b[0mFalse\u001b[0m\u001b[0;34m)\u001b[0m\u001b[0;34m\u001b[0m\u001b[0m\n\u001b[1;32m    115\u001b[0m         \u001b[0;32melif\u001b[0m \u001b[0msymbol\u001b[0m \u001b[0;34m==\u001b[0m \u001b[0;34m'['\u001b[0m\u001b[0;34m:\u001b[0m\u001b[0;34m\u001b[0m\u001b[0m\n\u001b[0;32m--> 116\u001b[0;31m             \u001b[0;32mfor\u001b[0m \u001b[0mevent\u001b[0m \u001b[0;32min\u001b[0m \u001b[0mparse_array\u001b[0m\u001b[0;34m(\u001b[0m\u001b[0mlexer\u001b[0m\u001b[0;34m)\u001b[0m\u001b[0;34m:\u001b[0m\u001b[0;34m\u001b[0m\u001b[0m\n\u001b[0m\u001b[1;32m    117\u001b[0m                 \u001b[0;32myield\u001b[0m \u001b[0mevent\u001b[0m\u001b[0;34m\u001b[0m\u001b[0m\n\u001b[1;32m    118\u001b[0m         \u001b[0;32melif\u001b[0m \u001b[0msymbol\u001b[0m \u001b[0;34m==\u001b[0m \u001b[0;34m'{'\u001b[0m\u001b[0;34m:\u001b[0m\u001b[0;34m\u001b[0m\u001b[0m\n",
      "\u001b[0;32m/Users/chetan/anaconda2/lib/python2.7/site-packages/ijson/backends/python.pyc\u001b[0m in \u001b[0;36mparse_array\u001b[0;34m(lexer)\u001b[0m\n\u001b[1;32m    136\u001b[0m         \u001b[0;32mif\u001b[0m \u001b[0msymbol\u001b[0m \u001b[0;34m!=\u001b[0m \u001b[0;34m']'\u001b[0m\u001b[0;34m:\u001b[0m\u001b[0;34m\u001b[0m\u001b[0m\n\u001b[1;32m    137\u001b[0m             \u001b[0;32mwhile\u001b[0m \u001b[0mTrue\u001b[0m\u001b[0;34m:\u001b[0m\u001b[0;34m\u001b[0m\u001b[0m\n\u001b[0;32m--> 138\u001b[0;31m                 \u001b[0;32mfor\u001b[0m \u001b[0mevent\u001b[0m \u001b[0;32min\u001b[0m \u001b[0mparse_value\u001b[0m\u001b[0;34m(\u001b[0m\u001b[0mlexer\u001b[0m\u001b[0;34m,\u001b[0m \u001b[0msymbol\u001b[0m\u001b[0;34m,\u001b[0m \u001b[0mpos\u001b[0m\u001b[0;34m)\u001b[0m\u001b[0;34m:\u001b[0m\u001b[0;34m\u001b[0m\u001b[0m\n\u001b[0m\u001b[1;32m    139\u001b[0m                     \u001b[0;32myield\u001b[0m \u001b[0mevent\u001b[0m\u001b[0;34m\u001b[0m\u001b[0m\n\u001b[1;32m    140\u001b[0m                 \u001b[0mpos\u001b[0m\u001b[0;34m,\u001b[0m \u001b[0msymbol\u001b[0m \u001b[0;34m=\u001b[0m \u001b[0mnext\u001b[0m\u001b[0;34m(\u001b[0m\u001b[0mlexer\u001b[0m\u001b[0;34m)\u001b[0m\u001b[0;34m\u001b[0m\u001b[0m\n",
      "\u001b[0;32m/Users/chetan/anaconda2/lib/python2.7/site-packages/ijson/backends/python.pyc\u001b[0m in \u001b[0;36mparse_value\u001b[0;34m(lexer, symbol, pos)\u001b[0m\n\u001b[1;32m    114\u001b[0m             \u001b[0;32myield\u001b[0m \u001b[0;34m(\u001b[0m\u001b[0;34m'boolean'\u001b[0m\u001b[0;34m,\u001b[0m \u001b[0mFalse\u001b[0m\u001b[0;34m)\u001b[0m\u001b[0;34m\u001b[0m\u001b[0m\n\u001b[1;32m    115\u001b[0m         \u001b[0;32melif\u001b[0m \u001b[0msymbol\u001b[0m \u001b[0;34m==\u001b[0m \u001b[0;34m'['\u001b[0m\u001b[0;34m:\u001b[0m\u001b[0;34m\u001b[0m\u001b[0m\n\u001b[0;32m--> 116\u001b[0;31m             \u001b[0;32mfor\u001b[0m \u001b[0mevent\u001b[0m \u001b[0;32min\u001b[0m \u001b[0mparse_array\u001b[0m\u001b[0;34m(\u001b[0m\u001b[0mlexer\u001b[0m\u001b[0;34m)\u001b[0m\u001b[0;34m:\u001b[0m\u001b[0;34m\u001b[0m\u001b[0m\n\u001b[0m\u001b[1;32m    117\u001b[0m                 \u001b[0;32myield\u001b[0m \u001b[0mevent\u001b[0m\u001b[0;34m\u001b[0m\u001b[0m\n\u001b[1;32m    118\u001b[0m         \u001b[0;32melif\u001b[0m \u001b[0msymbol\u001b[0m \u001b[0;34m==\u001b[0m \u001b[0;34m'{'\u001b[0m\u001b[0;34m:\u001b[0m\u001b[0;34m\u001b[0m\u001b[0m\n",
      "\u001b[0;32m/Users/chetan/anaconda2/lib/python2.7/site-packages/ijson/backends/python.pyc\u001b[0m in \u001b[0;36mparse_array\u001b[0;34m(lexer)\u001b[0m\n\u001b[1;32m    136\u001b[0m         \u001b[0;32mif\u001b[0m \u001b[0msymbol\u001b[0m \u001b[0;34m!=\u001b[0m \u001b[0;34m']'\u001b[0m\u001b[0;34m:\u001b[0m\u001b[0;34m\u001b[0m\u001b[0m\n\u001b[1;32m    137\u001b[0m             \u001b[0;32mwhile\u001b[0m \u001b[0mTrue\u001b[0m\u001b[0;34m:\u001b[0m\u001b[0;34m\u001b[0m\u001b[0m\n\u001b[0;32m--> 138\u001b[0;31m                 \u001b[0;32mfor\u001b[0m \u001b[0mevent\u001b[0m \u001b[0;32min\u001b[0m \u001b[0mparse_value\u001b[0m\u001b[0;34m(\u001b[0m\u001b[0mlexer\u001b[0m\u001b[0;34m,\u001b[0m \u001b[0msymbol\u001b[0m\u001b[0;34m,\u001b[0m \u001b[0mpos\u001b[0m\u001b[0;34m)\u001b[0m\u001b[0;34m:\u001b[0m\u001b[0;34m\u001b[0m\u001b[0m\n\u001b[0m\u001b[1;32m    139\u001b[0m                     \u001b[0;32myield\u001b[0m \u001b[0mevent\u001b[0m\u001b[0;34m\u001b[0m\u001b[0m\n\u001b[1;32m    140\u001b[0m                 \u001b[0mpos\u001b[0m\u001b[0;34m,\u001b[0m \u001b[0msymbol\u001b[0m \u001b[0;34m=\u001b[0m \u001b[0mnext\u001b[0m\u001b[0;34m(\u001b[0m\u001b[0mlexer\u001b[0m\u001b[0;34m)\u001b[0m\u001b[0;34m\u001b[0m\u001b[0m\n",
      "\u001b[0;32m/Users/chetan/anaconda2/lib/python2.7/site-packages/ijson/backends/python.pyc\u001b[0m in \u001b[0;36mparse_value\u001b[0;34m(lexer, symbol, pos)\u001b[0m\n\u001b[1;32m    123\u001b[0m         \u001b[0;32melse\u001b[0m\u001b[0;34m:\u001b[0m\u001b[0;34m\u001b[0m\u001b[0m\n\u001b[1;32m    124\u001b[0m             \u001b[0;32mtry\u001b[0m\u001b[0;34m:\u001b[0m\u001b[0;34m\u001b[0m\u001b[0m\n\u001b[0;32m--> 125\u001b[0;31m                 \u001b[0;32myield\u001b[0m \u001b[0;34m(\u001b[0m\u001b[0;34m'number'\u001b[0m\u001b[0;34m,\u001b[0m \u001b[0mcommon\u001b[0m\u001b[0;34m.\u001b[0m\u001b[0mnumber\u001b[0m\u001b[0;34m(\u001b[0m\u001b[0msymbol\u001b[0m\u001b[0;34m)\u001b[0m\u001b[0;34m)\u001b[0m\u001b[0;34m\u001b[0m\u001b[0m\n\u001b[0m\u001b[1;32m    126\u001b[0m             \u001b[0;32mexcept\u001b[0m \u001b[0mdecimal\u001b[0m\u001b[0;34m.\u001b[0m\u001b[0mInvalidOperation\u001b[0m\u001b[0;34m:\u001b[0m\u001b[0;34m\u001b[0m\u001b[0m\n\u001b[1;32m    127\u001b[0m                 \u001b[0;32mraise\u001b[0m \u001b[0mUnexpectedSymbol\u001b[0m\u001b[0;34m(\u001b[0m\u001b[0msymbol\u001b[0m\u001b[0;34m,\u001b[0m \u001b[0mpos\u001b[0m\u001b[0;34m)\u001b[0m\u001b[0;34m\u001b[0m\u001b[0m\n",
      "\u001b[0;32m/Users/chetan/anaconda2/lib/python2.7/site-packages/ijson/common.pyc\u001b[0m in \u001b[0;36mnumber\u001b[0;34m(str_value)\u001b[0m\n\u001b[1;32m    156\u001b[0m     \u001b[0mUsed\u001b[0m \u001b[0;32min\u001b[0m \u001b[0mdifferent\u001b[0m \u001b[0mbackends\u001b[0m \u001b[0;32mfor\u001b[0m \u001b[0mconsistent\u001b[0m \u001b[0mnumber\u001b[0m \u001b[0mrepresentation\u001b[0m\u001b[0;34m.\u001b[0m\u001b[0;34m\u001b[0m\u001b[0m\n\u001b[1;32m    157\u001b[0m     '''\n\u001b[0;32m--> 158\u001b[0;31m     \u001b[0mnumber\u001b[0m \u001b[0;34m=\u001b[0m \u001b[0mdecimal\u001b[0m\u001b[0;34m.\u001b[0m\u001b[0mDecimal\u001b[0m\u001b[0;34m(\u001b[0m\u001b[0mstr_value\u001b[0m\u001b[0;34m)\u001b[0m\u001b[0;34m\u001b[0m\u001b[0m\n\u001b[0m\u001b[1;32m    159\u001b[0m     \u001b[0mint_number\u001b[0m \u001b[0;34m=\u001b[0m \u001b[0mint\u001b[0m\u001b[0;34m(\u001b[0m\u001b[0mnumber\u001b[0m\u001b[0;34m)\u001b[0m\u001b[0;34m\u001b[0m\u001b[0m\n\u001b[1;32m    160\u001b[0m     \u001b[0;32mif\u001b[0m \u001b[0mint_number\u001b[0m \u001b[0;34m==\u001b[0m \u001b[0mnumber\u001b[0m\u001b[0;34m:\u001b[0m\u001b[0;34m\u001b[0m\u001b[0m\n",
      "\u001b[0;32m/Users/chetan/anaconda2/lib/python2.7/decimal.pyc\u001b[0m in \u001b[0;36m__new__\u001b[0;34m(cls, value, context)\u001b[0m\n\u001b[1;32m    556\u001b[0m                 \u001b[0mfracpart\u001b[0m \u001b[0;34m=\u001b[0m \u001b[0mm\u001b[0m\u001b[0;34m.\u001b[0m\u001b[0mgroup\u001b[0m\u001b[0;34m(\u001b[0m\u001b[0;34m'frac'\u001b[0m\u001b[0;34m)\u001b[0m \u001b[0;32mor\u001b[0m \u001b[0;34m''\u001b[0m\u001b[0;34m\u001b[0m\u001b[0m\n\u001b[1;32m    557\u001b[0m                 \u001b[0mexp\u001b[0m \u001b[0;34m=\u001b[0m \u001b[0mint\u001b[0m\u001b[0;34m(\u001b[0m\u001b[0mm\u001b[0m\u001b[0;34m.\u001b[0m\u001b[0mgroup\u001b[0m\u001b[0;34m(\u001b[0m\u001b[0;34m'exp'\u001b[0m\u001b[0;34m)\u001b[0m \u001b[0;32mor\u001b[0m \u001b[0;34m'0'\u001b[0m\u001b[0;34m)\u001b[0m\u001b[0;34m\u001b[0m\u001b[0m\n\u001b[0;32m--> 558\u001b[0;31m                 \u001b[0mself\u001b[0m\u001b[0;34m.\u001b[0m\u001b[0m_int\u001b[0m \u001b[0;34m=\u001b[0m \u001b[0mstr\u001b[0m\u001b[0;34m(\u001b[0m\u001b[0mint\u001b[0m\u001b[0;34m(\u001b[0m\u001b[0mintpart\u001b[0m\u001b[0;34m+\u001b[0m\u001b[0mfracpart\u001b[0m\u001b[0;34m)\u001b[0m\u001b[0;34m)\u001b[0m\u001b[0;34m\u001b[0m\u001b[0m\n\u001b[0m\u001b[1;32m    559\u001b[0m                 \u001b[0mself\u001b[0m\u001b[0;34m.\u001b[0m\u001b[0m_exp\u001b[0m \u001b[0;34m=\u001b[0m \u001b[0mexp\u001b[0m \u001b[0;34m-\u001b[0m \u001b[0mlen\u001b[0m\u001b[0;34m(\u001b[0m\u001b[0mfracpart\u001b[0m\u001b[0;34m)\u001b[0m\u001b[0;34m\u001b[0m\u001b[0m\n\u001b[1;32m    560\u001b[0m                 \u001b[0mself\u001b[0m\u001b[0;34m.\u001b[0m\u001b[0m_is_special\u001b[0m \u001b[0;34m=\u001b[0m \u001b[0mFalse\u001b[0m\u001b[0;34m\u001b[0m\u001b[0m\n",
      "\u001b[0;31mKeyboardInterrupt\u001b[0m: "
     ]
    }
   ],
   "source": [
    "\n",
    "api_url = 'https://www.quandl.com/api/v1/datasets/WIKI/%s.json' % 'AAPL'\n",
    "#objects = ijson.items(json, 'columns')\n",
    "f = urlopen('https://www.quandl.com/api/v1/datasets/WIKI/AAPL.json')\n",
    "objects = ijson.items(f, 'column_names')\n",
    "#tmp = objects[0]\n",
    "tmp = list(objects)[0]\n",
    "columns = []\n",
    "for val in tmp:\n",
    "    columns.append(val)"
   ]
  },
  {
   "cell_type": "code",
   "execution_count": null,
   "metadata": {
    "collapsed": false
   },
   "outputs": [],
   "source": [
    "f = urlopen('https://www.quandl.com/api/v1/datasets/WIKI/AAPL.json')\n",
    "objects = ijson.items(f, 'data')\n",
    "tmp = list(objects)[0]\n",
    "data = []\n",
    "for val in tmp:\n",
    "    data.append(val)\n"
   ]
  },
  {
   "cell_type": "code",
   "execution_count": null,
   "metadata": {
    "collapsed": false
   },
   "outputs": [],
   "source": [
    "data = pd.DataFrame(data, columns=columns)\n",
    "data.head()"
   ]
  },
  {
   "cell_type": "code",
   "execution_count": null,
   "metadata": {
    "collapsed": false
   },
   "outputs": [],
   "source": [
    "#output_file(\"test.html\")\n",
    "p = figure()\n",
    "p.line([1, 2, 3, 4, 5], [6, 7, 2, 4, 5], line_width=2)\n",
    "show(p)"
   ]
  },
  {
   "cell_type": "code",
   "execution_count": null,
   "metadata": {
    "collapsed": false
   },
   "outputs": [],
   "source": [
    "from bokeh.plotting import output_file\n",
    "\n",
    "#output_file('test.html')\n",
    "output_notebook()"
   ]
  },
  {
   "cell_type": "code",
   "execution_count": null,
   "metadata": {
    "collapsed": false
   },
   "outputs": [],
   "source": [
    "print(map(float,np.array(list(data['Close']))))"
   ]
  },
  {
   "cell_type": "code",
   "execution_count": null,
   "metadata": {
    "collapsed": false
   },
   "outputs": [],
   "source": [
    "#plot = figure(title='Data from Quandle WIKI set',\n",
    "#              x_axis_label='date',\n",
    "#              x_axis_type='datetime')\n",
    "\n",
    "p = figure(title='Data from Quandle WIKI set', x_axis_label='date', x_axis_type='datetime')\n",
    "#p = figure()\n",
    "\n",
    "b = map(float,list(data['Close']))\n",
    "a = range(len(b))\n",
    "p.line(a,data['Close'],line_width=2)\n",
    "\n",
    "#p.line([1, 2, 3, 4, 5], [6, 7, 2, 4, 5], line_width=2)\n",
    "show(p)\n",
    "#print data['Close'][:1000]"
   ]
  },
  {
   "cell_type": "code",
   "execution_count": null,
   "metadata": {
    "collapsed": false
   },
   "outputs": [],
   "source": [
    "a = map(int,list(data['Close'][:1]))\n",
    "print a\n",
    "p = figure()\n",
    "p.line([1], [5], line_width=2)\n",
    "#p.line([1, 2, 3, 4, 5], [6, 7, 2, 4, 5], line_width=2)\n",
    "show(p)\n",
    "print type(a[0])"
   ]
  },
  {
   "cell_type": "code",
   "execution_count": null,
   "metadata": {
    "collapsed": false
   },
   "outputs": [],
   "source": [
    "import matplotlib.pyplot as plt\n",
    "%matplotlib inline\n",
    "\n",
    "plt.plot(data['Close'])"
   ]
  },
  {
   "cell_type": "code",
   "execution_count": null,
   "metadata": {
    "collapsed": false
   },
   "outputs": [],
   "source": [
    "from bokeh.embed import components \n",
    "\n",
    "script, div = components(plot)\n",
    "return render_template('graph.html', script=script, div=div)"
   ]
  },
  {
   "cell_type": "code",
   "execution_count": null,
   "metadata": {
    "collapsed": false,
    "scrolled": true
   },
   "outputs": [],
   "source": [
    "api_url = 'https://www.quandl.com/api/v1/datasets/WIKI/adfasdf.json'\n",
    "urlopen(api_url)\n",
    "tmp = ijson.items(f, 'error')\n",
    "print tmp"
   ]
  },
  {
   "cell_type": "code",
   "execution_count": 7,
   "metadata": {
    "collapsed": false
   },
   "outputs": [
    {
     "data": {
      "text/html": [
       "<div>\n",
       "<table border=\"1\" class=\"dataframe\">\n",
       "  <thead>\n",
       "    <tr style=\"text-align: right;\">\n",
       "      <th></th>\n",
       "      <th>Date</th>\n",
       "      <th>Open</th>\n",
       "      <th>High</th>\n",
       "      <th>Low</th>\n",
       "      <th>Close</th>\n",
       "      <th>Volume</th>\n",
       "      <th>Ex-Dividend</th>\n",
       "      <th>Split Ratio</th>\n",
       "      <th>Adj. Open</th>\n",
       "      <th>Adj. High</th>\n",
       "      <th>Adj. Low</th>\n",
       "      <th>Adj. Close</th>\n",
       "      <th>Adj. Volume</th>\n",
       "    </tr>\n",
       "  </thead>\n",
       "  <tbody>\n",
       "    <tr>\n",
       "      <th>0</th>\n",
       "      <td>2016-09-02</td>\n",
       "      <td>773.01</td>\n",
       "      <td>773.9199</td>\n",
       "      <td>768.410</td>\n",
       "      <td>771.46</td>\n",
       "      <td>1066608.0</td>\n",
       "      <td>0.0</td>\n",
       "      <td>1.0</td>\n",
       "      <td>773.01</td>\n",
       "      <td>773.9199</td>\n",
       "      <td>768.410</td>\n",
       "      <td>771.46</td>\n",
       "      <td>1066608.0</td>\n",
       "    </tr>\n",
       "    <tr>\n",
       "      <th>1</th>\n",
       "      <td>2016-09-01</td>\n",
       "      <td>769.25</td>\n",
       "      <td>771.0200</td>\n",
       "      <td>764.300</td>\n",
       "      <td>768.78</td>\n",
       "      <td>923283.0</td>\n",
       "      <td>0.0</td>\n",
       "      <td>1.0</td>\n",
       "      <td>769.25</td>\n",
       "      <td>771.0200</td>\n",
       "      <td>764.300</td>\n",
       "      <td>768.78</td>\n",
       "      <td>923283.0</td>\n",
       "    </tr>\n",
       "    <tr>\n",
       "      <th>2</th>\n",
       "      <td>2016-08-31</td>\n",
       "      <td>767.01</td>\n",
       "      <td>769.0900</td>\n",
       "      <td>765.380</td>\n",
       "      <td>767.05</td>\n",
       "      <td>1228091.0</td>\n",
       "      <td>0.0</td>\n",
       "      <td>1.0</td>\n",
       "      <td>767.01</td>\n",
       "      <td>769.0900</td>\n",
       "      <td>765.380</td>\n",
       "      <td>767.05</td>\n",
       "      <td>1228091.0</td>\n",
       "    </tr>\n",
       "    <tr>\n",
       "      <th>3</th>\n",
       "      <td>2016-08-30</td>\n",
       "      <td>769.33</td>\n",
       "      <td>774.4660</td>\n",
       "      <td>766.840</td>\n",
       "      <td>769.09</td>\n",
       "      <td>1126495.0</td>\n",
       "      <td>0.0</td>\n",
       "      <td>1.0</td>\n",
       "      <td>769.33</td>\n",
       "      <td>774.4660</td>\n",
       "      <td>766.840</td>\n",
       "      <td>769.09</td>\n",
       "      <td>1126495.0</td>\n",
       "    </tr>\n",
       "    <tr>\n",
       "      <th>4</th>\n",
       "      <td>2016-08-29</td>\n",
       "      <td>768.74</td>\n",
       "      <td>774.9900</td>\n",
       "      <td>766.615</td>\n",
       "      <td>772.15</td>\n",
       "      <td>840366.0</td>\n",
       "      <td>0.0</td>\n",
       "      <td>1.0</td>\n",
       "      <td>768.74</td>\n",
       "      <td>774.9900</td>\n",
       "      <td>766.615</td>\n",
       "      <td>772.15</td>\n",
       "      <td>840366.0</td>\n",
       "    </tr>\n",
       "  </tbody>\n",
       "</table>\n",
       "</div>"
      ],
      "text/plain": [
       "         Date    Open      High      Low   Close     Volume  Ex-Dividend  \\\n",
       "0  2016-09-02  773.01  773.9199  768.410  771.46  1066608.0          0.0   \n",
       "1  2016-09-01  769.25  771.0200  764.300  768.78   923283.0          0.0   \n",
       "2  2016-08-31  767.01  769.0900  765.380  767.05  1228091.0          0.0   \n",
       "3  2016-08-30  769.33  774.4660  766.840  769.09  1126495.0          0.0   \n",
       "4  2016-08-29  768.74  774.9900  766.615  772.15   840366.0          0.0   \n",
       "\n",
       "   Split Ratio  Adj. Open  Adj. High  Adj. Low  Adj. Close  Adj. Volume  \n",
       "0          1.0     773.01   773.9199   768.410      771.46    1066608.0  \n",
       "1          1.0     769.25   771.0200   764.300      768.78     923283.0  \n",
       "2          1.0     767.01   769.0900   765.380      767.05    1228091.0  \n",
       "3          1.0     769.33   774.4660   766.840      769.09    1126495.0  \n",
       "4          1.0     768.74   774.9900   766.615      772.15     840366.0  "
      ]
     },
     "execution_count": 7,
     "metadata": {},
     "output_type": "execute_result"
    }
   ],
   "source": [
    "\n",
    "data.head()"
   ]
  },
  {
   "cell_type": "code",
   "execution_count": 14,
   "metadata": {
    "collapsed": false
   },
   "outputs": [
    {
     "data": {
      "text/html": [
       "\n",
       "\n",
       "    <div class=\"bk-root\">\n",
       "        <div class=\"plotdiv\" id=\"f8a8b53a-e2b8-4716-86f3-592db75bdbcf\"></div>\n",
       "    </div>\n",
       "<script type=\"text/javascript\">\n",
       "  \n",
       "  (function(global) {\n",
       "    function now() {\n",
       "      return new Date();\n",
       "    }\n",
       "  \n",
       "    var force = \"\";\n",
       "  \n",
       "    if (typeof (window._bokeh_onload_callbacks) === \"undefined\" || force !== \"\") {\n",
       "      window._bokeh_onload_callbacks = [];\n",
       "      window._bokeh_is_loading = undefined;\n",
       "    }\n",
       "  \n",
       "    function run_callbacks() {\n",
       "      window._bokeh_onload_callbacks.forEach(function(callback) { callback() });\n",
       "      delete window._bokeh_onload_callbacks\n",
       "      console.info(\"Bokeh: all callbacks have finished\");\n",
       "    }\n",
       "  \n",
       "    function load_libs(js_urls, callback) {\n",
       "      window._bokeh_onload_callbacks.push(callback);\n",
       "      if (window._bokeh_is_loading > 0) {\n",
       "        console.log(\"Bokeh: BokehJS is being loaded, scheduling callback at\", now());\n",
       "        return null;\n",
       "      }\n",
       "      if (js_urls == null || js_urls.length === 0) {\n",
       "        run_callbacks();\n",
       "        return null;\n",
       "      }\n",
       "      console.log(\"Bokeh: BokehJS not loaded, scheduling load and callback at\", now());\n",
       "      window._bokeh_is_loading = js_urls.length;\n",
       "      for (var i = 0; i < js_urls.length; i++) {\n",
       "        var url = js_urls[i];\n",
       "        var s = document.createElement('script');\n",
       "        s.src = url;\n",
       "        s.async = false;\n",
       "        s.onreadystatechange = s.onload = function() {\n",
       "          window._bokeh_is_loading--;\n",
       "          if (window._bokeh_is_loading === 0) {\n",
       "            console.log(\"Bokeh: all BokehJS libraries loaded\");\n",
       "            run_callbacks()\n",
       "          }\n",
       "        };\n",
       "        s.onerror = function() {\n",
       "          console.warn(\"failed to load library \" + url);\n",
       "        };\n",
       "        console.log(\"Bokeh: injecting script tag for BokehJS library: \", url);\n",
       "        document.getElementsByTagName(\"head\")[0].appendChild(s);\n",
       "      }\n",
       "    };var element = document.getElementById(\"f8a8b53a-e2b8-4716-86f3-592db75bdbcf\");\n",
       "    if (element == null) {\n",
       "      console.log(\"Bokeh: ERROR: autoload.js configured with elementid 'f8a8b53a-e2b8-4716-86f3-592db75bdbcf' but no matching script tag was found. \")\n",
       "      return false;\n",
       "    }\n",
       "  \n",
       "    var js_urls = [];\n",
       "  \n",
       "    var inline_js = [\n",
       "      function(Bokeh) {\n",
       "        Bokeh.$(function() {\n",
       "            var docs_json = {\"5a7b7421-5848-4a91-bf29-37790a14b2ee\":{\"roots\":{\"references\":[{\"attributes\":{\"overlay\":{\"id\":\"f6bad98b-04b5-4c07-9a0a-234f492f82c6\",\"type\":\"BoxAnnotation\"},\"plot\":{\"id\":\"429bbbe1-9ce1-420a-89e0-2b66a6e8a72e\",\"subtype\":\"Figure\",\"type\":\"Plot\"}},\"id\":\"4c6dab63-6451-4d73-babe-9bd0fc05ca1f\",\"type\":\"BoxZoomTool\"},{\"attributes\":{\"line_alpha\":{\"value\":0.1},\"line_color\":{\"value\":\"#1f77b4\"},\"line_width\":{\"value\":2},\"x\":{\"field\":\"x\"},\"y\":{\"field\":\"y\"}},\"id\":\"3fff7446-e98c-4733-8280-fad16ed52d21\",\"type\":\"Line\"},{\"attributes\":{},\"id\":\"33b12b12-adac-4a12-9a21-75e037b9ca0f\",\"type\":\"BasicTickFormatter\"},{\"attributes\":{\"plot\":{\"id\":\"429bbbe1-9ce1-420a-89e0-2b66a6e8a72e\",\"subtype\":\"Figure\",\"type\":\"Plot\"}},\"id\":\"e0d48f3b-3d43-4702-a940-799f2fae42c8\",\"type\":\"SaveTool\"},{\"attributes\":{\"below\":[{\"id\":\"357cd70a-7508-4bd2-bbf1-0eafe49c7a44\",\"type\":\"LinearAxis\"}],\"left\":[{\"id\":\"04d6699b-9e1a-4946-a5a7-2cd0b42dec87\",\"type\":\"LinearAxis\"}],\"renderers\":[{\"id\":\"357cd70a-7508-4bd2-bbf1-0eafe49c7a44\",\"type\":\"LinearAxis\"},{\"id\":\"8aace721-ef61-4008-a18c-5628a581ee78\",\"type\":\"Grid\"},{\"id\":\"04d6699b-9e1a-4946-a5a7-2cd0b42dec87\",\"type\":\"LinearAxis\"},{\"id\":\"676cbdbc-5ec6-4875-af7e-c25d31468233\",\"type\":\"Grid\"},{\"id\":\"f6bad98b-04b5-4c07-9a0a-234f492f82c6\",\"type\":\"BoxAnnotation\"},{\"id\":\"ea774abc-b673-4e29-bfdc-1d1fe43a6bb6\",\"type\":\"GlyphRenderer\"}],\"title\":{\"id\":\"31216e28-b240-4cd8-869a-10bcdb2793c9\",\"type\":\"Title\"},\"tool_events\":{\"id\":\"aa2e2807-f7ce-4c91-935e-91b9a8d6c92c\",\"type\":\"ToolEvents\"},\"toolbar\":{\"id\":\"dc870d69-08df-4e76-9624-de3ed7d4ddbe\",\"type\":\"Toolbar\"},\"x_range\":{\"id\":\"b6d3577e-6951-408b-b23a-3f6aa4de6dee\",\"type\":\"DataRange1d\"},\"y_range\":{\"id\":\"0dd8a9d4-8ec1-470a-a404-34211e9dd154\",\"type\":\"DataRange1d\"}},\"id\":\"429bbbe1-9ce1-420a-89e0-2b66a6e8a72e\",\"subtype\":\"Figure\",\"type\":\"Plot\"},{\"attributes\":{\"plot\":{\"id\":\"429bbbe1-9ce1-420a-89e0-2b66a6e8a72e\",\"subtype\":\"Figure\",\"type\":\"Plot\"}},\"id\":\"4de1a79b-fc28-471d-94f4-9eb79ee294cf\",\"type\":\"PanTool\"},{\"attributes\":{\"ticks\":[1,31]},\"id\":\"c6a69dd0-e3c4-40e2-9a35-9372a959280b\",\"type\":\"FixedTicker\"},{\"attributes\":{\"formatter\":{\"id\":\"33b12b12-adac-4a12-9a21-75e037b9ca0f\",\"type\":\"BasicTickFormatter\"},\"plot\":{\"id\":\"429bbbe1-9ce1-420a-89e0-2b66a6e8a72e\",\"subtype\":\"Figure\",\"type\":\"Plot\"},\"ticker\":{\"id\":\"c6a69dd0-e3c4-40e2-9a35-9372a959280b\",\"type\":\"FixedTicker\"}},\"id\":\"357cd70a-7508-4bd2-bbf1-0eafe49c7a44\",\"type\":\"LinearAxis\"},{\"attributes\":{\"callback\":null},\"id\":\"0dd8a9d4-8ec1-470a-a404-34211e9dd154\",\"type\":\"DataRange1d\"},{\"attributes\":{\"plot\":null,\"text\":null},\"id\":\"31216e28-b240-4cd8-869a-10bcdb2793c9\",\"type\":\"Title\"},{\"attributes\":{},\"id\":\"508be28d-ae89-43fa-a6ac-4fd253fcabce\",\"type\":\"BasicTickFormatter\"},{\"attributes\":{\"dimension\":1,\"plot\":{\"id\":\"429bbbe1-9ce1-420a-89e0-2b66a6e8a72e\",\"subtype\":\"Figure\",\"type\":\"Plot\"},\"ticker\":{\"id\":\"a7d44913-1cf0-4a46-9e72-44b07b500138\",\"type\":\"BasicTicker\"}},\"id\":\"676cbdbc-5ec6-4875-af7e-c25d31468233\",\"type\":\"Grid\"},{\"attributes\":{\"plot\":{\"id\":\"429bbbe1-9ce1-420a-89e0-2b66a6e8a72e\",\"subtype\":\"Figure\",\"type\":\"Plot\"}},\"id\":\"4ce1e2f5-25b2-4f93-baab-c6d7cba31a7a\",\"type\":\"WheelZoomTool\"},{\"attributes\":{\"formatter\":{\"id\":\"508be28d-ae89-43fa-a6ac-4fd253fcabce\",\"type\":\"BasicTickFormatter\"},\"plot\":{\"id\":\"429bbbe1-9ce1-420a-89e0-2b66a6e8a72e\",\"subtype\":\"Figure\",\"type\":\"Plot\"},\"ticker\":{\"id\":\"a7d44913-1cf0-4a46-9e72-44b07b500138\",\"type\":\"BasicTicker\"}},\"id\":\"04d6699b-9e1a-4946-a5a7-2cd0b42dec87\",\"type\":\"LinearAxis\"},{\"attributes\":{\"data_source\":{\"id\":\"bf80beb4-417d-4b28-8aa5-c6925c4395fc\",\"type\":\"ColumnDataSource\"},\"glyph\":{\"id\":\"a193330a-58eb-4451-8b8b-32e089d62505\",\"type\":\"Line\"},\"hover_glyph\":null,\"nonselection_glyph\":{\"id\":\"3fff7446-e98c-4733-8280-fad16ed52d21\",\"type\":\"Line\"},\"selection_glyph\":null},\"id\":\"ea774abc-b673-4e29-bfdc-1d1fe43a6bb6\",\"type\":\"GlyphRenderer\"},{\"attributes\":{\"callback\":null,\"column_names\":[\"y\",\"x\"],\"data\":{\"x\":[\"2016-09-02\",0,0,0,0,0,0,0,0,0,0,0,0,0,0,0,0,0,0,0,0,0,0,0,0,0,0,0,0,0,\"2016-07-22\"],\"y\":[771.46,768.78,767.05,769.09,772.15,769.54,769.41,769.64,772.08,772.15,775.42,777.5,779.91,777.14,782.44,783.22,784.85,784.68,784.26,781.76,782.22,771.61,773.18,771.07,772.88,768.79,745.91,741.77,738.42,739.77,742.74]}},\"id\":\"bf80beb4-417d-4b28-8aa5-c6925c4395fc\",\"type\":\"ColumnDataSource\"},{\"attributes\":{\"active_drag\":\"auto\",\"active_scroll\":\"auto\",\"active_tap\":\"auto\",\"tools\":[{\"id\":\"4de1a79b-fc28-471d-94f4-9eb79ee294cf\",\"type\":\"PanTool\"},{\"id\":\"4ce1e2f5-25b2-4f93-baab-c6d7cba31a7a\",\"type\":\"WheelZoomTool\"},{\"id\":\"4c6dab63-6451-4d73-babe-9bd0fc05ca1f\",\"type\":\"BoxZoomTool\"},{\"id\":\"e0d48f3b-3d43-4702-a940-799f2fae42c8\",\"type\":\"SaveTool\"},{\"id\":\"8737a168-d1bb-40cc-ace3-43c99fe81edc\",\"type\":\"ResetTool\"},{\"id\":\"61e63a81-3b57-4a3a-b83e-21e539c19131\",\"type\":\"HelpTool\"}]},\"id\":\"dc870d69-08df-4e76-9624-de3ed7d4ddbe\",\"type\":\"Toolbar\"},{\"attributes\":{},\"id\":\"aa2e2807-f7ce-4c91-935e-91b9a8d6c92c\",\"type\":\"ToolEvents\"},{\"attributes\":{},\"id\":\"e780e915-4590-4a3f-a368-1916abe568c2\",\"type\":\"BasicTicker\"},{\"attributes\":{\"callback\":null},\"id\":\"b6d3577e-6951-408b-b23a-3f6aa4de6dee\",\"type\":\"DataRange1d\"},{\"attributes\":{\"plot\":{\"id\":\"429bbbe1-9ce1-420a-89e0-2b66a6e8a72e\",\"subtype\":\"Figure\",\"type\":\"Plot\"}},\"id\":\"61e63a81-3b57-4a3a-b83e-21e539c19131\",\"type\":\"HelpTool\"},{\"attributes\":{\"line_color\":{\"value\":\"#1f77b4\"},\"line_width\":{\"value\":2},\"x\":{\"field\":\"x\"},\"y\":{\"field\":\"y\"}},\"id\":\"a193330a-58eb-4451-8b8b-32e089d62505\",\"type\":\"Line\"},{\"attributes\":{\"plot\":{\"id\":\"429bbbe1-9ce1-420a-89e0-2b66a6e8a72e\",\"subtype\":\"Figure\",\"type\":\"Plot\"}},\"id\":\"8737a168-d1bb-40cc-ace3-43c99fe81edc\",\"type\":\"ResetTool\"},{\"attributes\":{\"plot\":{\"id\":\"429bbbe1-9ce1-420a-89e0-2b66a6e8a72e\",\"subtype\":\"Figure\",\"type\":\"Plot\"},\"ticker\":{\"id\":\"e780e915-4590-4a3f-a368-1916abe568c2\",\"type\":\"BasicTicker\"}},\"id\":\"8aace721-ef61-4008-a18c-5628a581ee78\",\"type\":\"Grid\"},{\"attributes\":{\"bottom_units\":\"screen\",\"fill_alpha\":{\"value\":0.5},\"fill_color\":{\"value\":\"lightgrey\"},\"left_units\":\"screen\",\"level\":\"overlay\",\"line_alpha\":{\"value\":1.0},\"line_color\":{\"value\":\"black\"},\"line_dash\":[4,4],\"line_width\":{\"value\":2},\"plot\":null,\"render_mode\":\"css\",\"right_units\":\"screen\",\"top_units\":\"screen\"},\"id\":\"f6bad98b-04b5-4c07-9a0a-234f492f82c6\",\"type\":\"BoxAnnotation\"},{\"attributes\":{},\"id\":\"a7d44913-1cf0-4a46-9e72-44b07b500138\",\"type\":\"BasicTicker\"}],\"root_ids\":[\"429bbbe1-9ce1-420a-89e0-2b66a6e8a72e\"]},\"title\":\"Bokeh Application\",\"version\":\"0.12.1\"}};\n",
       "            var render_items = [{\"docid\":\"5a7b7421-5848-4a91-bf29-37790a14b2ee\",\"elementid\":\"f8a8b53a-e2b8-4716-86f3-592db75bdbcf\",\"modelid\":\"429bbbe1-9ce1-420a-89e0-2b66a6e8a72e\",\"notebook_comms_target\":\"bb1bd3b3-af32-4810-bfa8-8cfb776f325d\"}];\n",
       "            \n",
       "            Bokeh.embed.embed_items(docs_json, render_items);\n",
       "        });\n",
       "      },\n",
       "      function(Bokeh) {\n",
       "      }\n",
       "    ];\n",
       "  \n",
       "    function run_inline_js() {\n",
       "      for (var i = 0; i < inline_js.length; i++) {\n",
       "        inline_js[i](window.Bokeh);\n",
       "      }\n",
       "    }\n",
       "  \n",
       "    if (window._bokeh_is_loading === 0) {\n",
       "      console.log(\"Bokeh: BokehJS loaded, going straight to plotting\");\n",
       "      run_inline_js();\n",
       "    } else {\n",
       "      load_libs(js_urls, function() {\n",
       "        console.log(\"Bokeh: BokehJS plotting callback run at\", now());\n",
       "        run_inline_js();\n",
       "      });\n",
       "    }\n",
       "  }(this));\n",
       "</script>"
      ]
     },
     "metadata": {},
     "output_type": "display_data"
    },
    {
     "data": {
      "text/html": [
       "<p><code>&lt;Bokeh Notebook handle for <strong>In[14]</strong>&gt;</code></p>"
      ],
      "text/plain": [
       "<bokeh.io._CommsHandle at 0x115b62cd0>"
      ]
     },
     "execution_count": 14,
     "metadata": {},
     "output_type": "execute_result"
    }
   ],
   "source": [
    "st = 'GOOG'.lower()\n",
    "api_url = 'https://www.quandl.com/api/v1/datasets/WIKI/%s.json' % st\n",
    "from bokeh.models import FixedTicker\n",
    "\n",
    "f = urlopen(api_url)\n",
    "jdata = json.load(f)\n",
    "\n",
    "columns = jdata['column_names']\n",
    "raw_data = jdata['data']\n",
    "\n",
    "data = pd.DataFrame(raw_data, columns=columns)\n",
    "#p = figure()\n",
    "#p.line([1, 2, 3, 4, 5], [6, 7, 2, 4, 5], line_width=2\n",
    "p = figure()\n",
    "b = map(float,list(data['Close'][:31]))\n",
    "a = range(len(b))\n",
    "tmp = data['Date'][:31]\n",
    "#tmp[1:30] = \n",
    "a = tmp\n",
    "p.line(a,b,line_width=2)\n",
    "p.xaxis[0].ticker=FixedTicker(ticks=[1,31])\n",
    "\n",
    "show(p)"
   ]
  },
  {
   "cell_type": "code",
   "execution_count": null,
   "metadata": {
    "collapsed": false
   },
   "outputs": [],
   "source": [
    "st = 'AAPL'.lower()\n",
    "api_url = 'https://www.quandl.com/api/v1/datasets/WIKI/%s.json' % st\n",
    "print api_url"
   ]
  },
  {
   "cell_type": "code",
   "execution_count": null,
   "metadata": {
    "collapsed": false
   },
   "outputs": [],
   "source": [
    "#tmp = ijson.items(f, 'error')\n",
    "#if tmp \n",
    "#{\"error\":\"Requested entity does not exist.\"}\n",
    "\n",
    "obj = ijson.items(f, 'column_names')\n",
    "tmp = list(obj)[0]\n",
    "columns = []\n",
    "for val in tmp:\n",
    "    columns.append(val)\n",
    "\n",
    "f = urlopen(api_url)\n",
    "obj = ijson.items(f, 'data')\n",
    "tmp = list(obj)[0]\n",
    "data = []\n",
    "for val in tmp:\n",
    "    data.append(val)\n"
   ]
  },
  {
   "cell_type": "code",
   "execution_count": null,
   "metadata": {
    "collapsed": false
   },
   "outputs": [],
   "source": [
    "api_url = 'https://www.quandl.com/api/v1/datasets/WIKI/%s.json' % 'f'\n",
    "\n",
    "try:\n",
    "    f = urlopen(api_url)\n",
    "    jdata = json.load(f)\n",
    "    print 'all good'\n",
    "except: \n",
    "    print \"error caught\""
   ]
  },
  {
   "cell_type": "code",
   "execution_count": 4,
   "metadata": {
    "collapsed": false
   },
   "outputs": [
    {
     "ename": "NameError",
     "evalue": "name 'a' is not defined",
     "output_type": "error",
     "traceback": [
      "\u001b[0;31m---------------------------------------------------------------------------\u001b[0m",
      "\u001b[0;31mNameError\u001b[0m                                 Traceback (most recent call last)",
      "\u001b[0;32m<ipython-input-4-0d959442b7a4>\u001b[0m in \u001b[0;36m<module>\u001b[0;34m()\u001b[0m\n\u001b[1;32m     13\u001b[0m \u001b[0mb\u001b[0m \u001b[0;34m=\u001b[0m \u001b[0mmap\u001b[0m\u001b[0;34m(\u001b[0m\u001b[0mfloat\u001b[0m\u001b[0;34m,\u001b[0m\u001b[0mlist\u001b[0m\u001b[0;34m(\u001b[0m\u001b[0mdata\u001b[0m\u001b[0;34m[\u001b[0m\u001b[0;34m'Close'\u001b[0m\u001b[0;34m]\u001b[0m\u001b[0;34m)\u001b[0m\u001b[0;34m)\u001b[0m\u001b[0;34m\u001b[0m\u001b[0m\n\u001b[1;32m     14\u001b[0m \u001b[0;34m\u001b[0m\u001b[0m\n\u001b[0;32m---> 15\u001b[0;31m \u001b[0mp\u001b[0m\u001b[0;34m.\u001b[0m\u001b[0mline\u001b[0m\u001b[0;34m(\u001b[0m\u001b[0ma\u001b[0m\u001b[0;34m,\u001b[0m\u001b[0mb\u001b[0m\u001b[0;34m,\u001b[0m\u001b[0mline_width\u001b[0m\u001b[0;34m=\u001b[0m\u001b[0;36m2\u001b[0m\u001b[0;34m)\u001b[0m\u001b[0;34m\u001b[0m\u001b[0m\n\u001b[0m\u001b[1;32m     16\u001b[0m \u001b[0;34m\u001b[0m\u001b[0m\n\u001b[1;32m     17\u001b[0m \u001b[0;31m#a = data['Date']\u001b[0m\u001b[0;34m\u001b[0m\u001b[0;34m\u001b[0m\u001b[0m\n",
      "\u001b[0;31mNameError\u001b[0m: name 'a' is not defined"
     ]
    }
   ],
   "source": [
    "api_url = 'https://www.quandl.com/api/v1/datasets/WIKI/%s.json' % 'aapl'\n",
    "\n",
    "f = urlopen(api_url)\n",
    "jdata = json.load(f)\n",
    "\n",
    "columns = jdata['column_names']\n",
    "raw_data = jdata['data']\n",
    "\n",
    "data = pd.DataFrame(raw_data, columns=columns)\n",
    "#p = figure()\n",
    "#p.line([1, 2, 3, 4, 5], [6, 7, 2, 4, 5], line_width=2\n",
    "p = figure()\n",
    "#b = map(float,list(data['Close']))\n",
    "\n",
    "p.line(a,,line_width=2)\n",
    "\n",
    "#a = data['Date']\n",
    "#a = range(len(b))\n",
    "#from bokeh.models import PrintfTickFormatter\n",
    "#p.xaxis[0].formatter = PrintfTickFormatter(format=\"%d\")\n",
    "\n",
    "show(p)\n",
    "\n"
   ]
  },
  {
   "cell_type": "code",
   "execution_count": null,
   "metadata": {
    "collapsed": true
   },
   "outputs": [],
   "source": []
  }
 ],
 "metadata": {
  "anaconda-cloud": {},
  "kernelspec": {
   "display_name": "Python [Root]",
   "language": "python",
   "name": "Python [Root]"
  },
  "language_info": {
   "codemirror_mode": {
    "name": "ipython",
    "version": 2
   },
   "file_extension": ".py",
   "mimetype": "text/x-python",
   "name": "python",
   "nbconvert_exporter": "python",
   "pygments_lexer": "ipython2",
   "version": "2.7.12"
  }
 },
 "nbformat": 4,
 "nbformat_minor": 0
}
